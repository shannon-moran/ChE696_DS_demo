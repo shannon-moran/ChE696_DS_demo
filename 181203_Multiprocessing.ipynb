{
 "cells": [
  {
   "cell_type": "markdown",
   "metadata": {},
   "source": [
    "# ChE 696, 12/3/18: The modern computational science workflow\n",
    "\n",
    "* As a class you've learned pandas, SQL, numpy, etc.\n",
    "* These all come into play in the modern computational science workflow\n",
    "* Computational science is the process of using computers to study specific systems; often times, we use data science methods\n",
    "\n",
    "Today we're going to focus on three things.\n",
    "1. Designing a computational experiment - 20 min\n",
    "2. Analyzing/visualizing your data efficiently (timing, debugging, optimizing) - 20 min\n",
    "3. Using multiprocessing to parallelize analysis - 20 min"
   ]
  },
  {
   "cell_type": "markdown",
   "metadata": {},
   "source": [
    "## Preliminaries (<5 min)\n",
    "If you don't already have them installed, install the time and multiprocessing packages through your favorite package manager."
   ]
  },
  {
   "cell_type": "code",
   "execution_count": null,
   "metadata": {},
   "outputs": [],
   "source": [
    "%matplotlib inline\n",
    "import numpy as np\n",
    "from math import *\n",
    "import matplotlib.pyplot as plt\n",
    "import time"
   ]
  },
  {
   "cell_type": "markdown",
   "metadata": {},
   "source": [
    "## Computational experiment: what is the percolation threshhold in 2D? - 5 min\n",
    "\n",
    "First: what is percolation?\n",
    "\n",
    "![thanks wolfram](http://mathworld.wolfram.com/images/eps-gif/BondPercolation_1000.gif)\n",
    "\n",
    "We start with a lattice, which is some ordering of sites that are connected. Here, we're going to use a simple 2D square lattice for site percolation. This is easy to work with because it is essentially an array.\n",
    "\n",
    "Each site on the lattice (or value in the array) is then populated (given value 1) with some probability $p$. \n",
    "\n",
    "We call sites *clustered* if they have a neighboring occupied site. There are a number of algorithms for finding clusters; here, we're going to use something called the Hoshen-Kopelman (Kopelman is a prof at UMich!).\n",
    "\n",
    "A *percolating cluster* exists if a cluster spans the simulation box from left to right. Spoiler alert: in 2D, this occurs at p=0.58.\n",
    "\n",
    "Let's set up a lattice model to run our experiment."
   ]
  },
  {
   "cell_type": "code",
   "execution_count": null,
   "metadata": {},
   "outputs": [],
   "source": [
    "class LatticeModel(object):\n",
    "    def __init__(self,L,p):\n",
    "        self.L = L\n",
    "        self.p = p\n",
    "        self.init_lattice()\n",
    "        \n",
    "    def init_lattice(self):\n",
    "        random_lattice = np.random.random((self.L,self.L))\n",
    "        self.lattice = (random_lattice<=self.p)*1\n",
    "        return"
   ]
  },
  {
   "cell_type": "markdown",
   "metadata": {},
   "source": [
    "Now that we have the routine set up, let's visualize it. Here, $L$ is the side length of the simulation box. Play around with $p$."
   ]
  },
  {
   "cell_type": "code",
   "execution_count": null,
   "metadata": {},
   "outputs": [],
   "source": [
    "L = 20\n",
    "p = 0.4\n",
    "\n",
    "simulation = LatticeModel(L,p)\n",
    "plt.imshow(simulation.lattice,cmap='binary',interpolation=\"none\")\n",
    "plt.title('Lattice value')\n",
    "plt.show()"
   ]
  },
  {
   "cell_type": "markdown",
   "metadata": {},
   "source": [
    "At the values I input, this is definitely not percolating. Let's walk through how we can analyze that, though."
   ]
  },
  {
   "cell_type": "markdown",
   "metadata": {},
   "source": [
    "## Analysis: Building our analysis pipeline - 25 min\n",
    "Once I have a way of \"simulating\" my data (and the above is very simple), we need a way of analyzing it organically.\n",
    "\n",
    "I know the below is a lot of code. One of the best things you can do to learn is read others' code (even if it's mine, which can be pretty hack-y). We're going to walk through it and look at why I set things up the way I did."
   ]
  },
  {
   "cell_type": "code",
   "execution_count": null,
   "metadata": {},
   "outputs": [],
   "source": [
    "class PercolationAnalysis(LatticeModel):\n",
    "    def __init__(self, L, p):\n",
    "        LatticeModel.__init__(self, L, p)\n",
    "        self.clusterIDs = self.HK_algorithm()\n",
    "    \n",
    "    def init_clusters(self):\n",
    "        clusterIDs = np.copy(np.zeros((self.L,self.L)))    \n",
    "        for i in range(self.L):\n",
    "            for j in range(self.L):\n",
    "                if self.lattice[i][j]==0: pass\n",
    "                else:\n",
    "                    neighborIDs=[]\n",
    "                    if i!=0: neighborIDs.append(clusterIDs[i-1][j])\n",
    "                    if j!=0: neighborIDs.append(clusterIDs[i][j-1])\n",
    "                    if neighborIDs==[]:\n",
    "                        clusterIDs[i][j]=np.amax(clusterIDs)+1\n",
    "                    elif max(neighborIDs)==0:\n",
    "                        clusterIDs[i][j]=np.amax(clusterIDs)+1\n",
    "                    else:\n",
    "                        clusterIDs[i][j]=max(neighborIDs)\n",
    "        return clusterIDs\n",
    "\n",
    "    def get_neighbors(self,i,j,clusterIDs,neighborIDs):\n",
    "        if i!=0:\n",
    "            neighborIDs.append(clusterIDs[i-1][j])\n",
    "        if j!=0:\n",
    "            neighborIDs.append(clusterIDs[i][j-1])\n",
    "        if i<(clusterIDs.shape[0]-1):\n",
    "            neighborIDs.append(clusterIDs[i+1][j])\n",
    "        if j<(clusterIDs.shape[1]-1):\n",
    "            neighborIDs.append(clusterIDs[i][j+1])\n",
    "        return neighborIDs\n",
    "\n",
    "    def ID_proper(self,i,j,clusterIDs,proper_clusters,clusters0):\n",
    "        neighborIDs = self.get_neighbors(i,j,clusterIDs,[])\n",
    "\n",
    "        # 0) If site is empty, no cluster number\n",
    "        if clusterIDs[i][j]==0: siteID = 0    \n",
    "\n",
    "        # 1) If no neighbors to cluster, then keep particle in its own cluster\n",
    "        elif np.amax(neighborIDs)==0:\n",
    "            siteID = clusterIDs[i][j]\n",
    "            np.place(proper_clusters,proper_clusters==clusterIDs[i][j],siteID)    \n",
    "\n",
    "        # 2) If more than one neighboring site is occupied, take the smallest of the neighbor labels\n",
    "        else:\n",
    "            nonzero_labels = [x for x in neighborIDs if x>0]\n",
    "            siteID = np.amin(np.asarray(nonzero_labels,clusterIDs[i][j]))\n",
    "            np.place(proper_clusters,clusters0==clusterIDs[i][j],siteID)\n",
    "\n",
    "            # 3) Store proper neighbor cluster values\n",
    "            for x in nonzero_labels:\n",
    "                np.place(proper_clusters,proper_clusters==x,siteID)\n",
    "\n",
    "        # 4) Update cluster IDs with proper label here\n",
    "        for k in range(len(clusters0)):\n",
    "            np.place(clusterIDs,clusterIDs==clusters0[k],proper_clusters[k])\n",
    "\n",
    "        return proper_clusters, clusterIDs\n",
    "\n",
    "    def HK_algorithm(self):\n",
    "        ## 1) Find unique ID for each site > \"cluster labels\"\n",
    "        clusterIDs = self.init_clusters()\n",
    "\n",
    "        # 2) Stores number of unique clusters in a 2-row array\n",
    "        clusters0 = np.unique(clusterIDs)\n",
    "        proper_clusters = np.copy(clusters0)\n",
    "\n",
    "        # 3) Iterate through sites to determine \"true\" value\n",
    "        for i in range(clusterIDs.shape[0]):\n",
    "            for j in range(clusterIDs.shape[1]):\n",
    "                proper_clusters, clusterIDs = self.ID_proper(i,j,clusterIDs,proper_clusters,clusters0)\n",
    "\n",
    "        return clusterIDs\n",
    "    \n",
    "    # We'll come back to the two methods below in a little bit.\n",
    "    \n",
    "    def percolated_yes_or_no(self):\n",
    "        clusters = np.unique(self.clusterIDs)\n",
    "        # Screens out edge case where there are no empty sites\n",
    "        a=(0 if clusters[0]==1 else 1)\n",
    "        for c in clusters[a:]:\n",
    "            check = np.copy(np.where(self.clusterIDs==c))\n",
    "            if (np.amin(check[0])==0 and np.amax(check[0])==(L-1)): \n",
    "                return 1\n",
    "            else: pass\n",
    "        return 0\n",
    "    \n",
    "    def visualize_percolation_threshhold(self, reps, site_occupied_prob_range):\n",
    "        percolation_prob = [] \n",
    "        for p in site_occupied_prob_range:\n",
    "            tmp_data = []\n",
    "            for rep in range(reps):\n",
    "                tmp_data.append(PercolationAnalysis(L,p).percolated_yes_or_no())\n",
    "            percolation_prob.append(np.sum(np.asarray(tmp_data))/reps)\n",
    "\n",
    "        plt.plot(site_occupied_prob_range,percolation_prob,'bo-')\n",
    "        plt.title('Probability (P) of percolating cluster existence')\n",
    "        plt.ylabel('P')\n",
    "        plt.xlabel('Probability (p) of a lattice site being occupied')\n",
    "        plt.show()\n",
    "        return"
   ]
  },
  {
   "cell_type": "code",
   "execution_count": null,
   "metadata": {},
   "outputs": [],
   "source": [
    "# Use this block to play around and see what various code blocks do"
   ]
  },
  {
   "cell_type": "markdown",
   "metadata": {},
   "source": [
    "*phew*, that was a lot of code. Typically, once I get this code working I will put it all into a separate .py file that I will load as a module to keep my notebook clean. I'm happy to demo an example if people are interested.\n",
    "\n",
    "What's great about this? Now I can make a lattice and analyze it with one line of code."
   ]
  },
  {
   "cell_type": "code",
   "execution_count": null,
   "metadata": {
    "scrolled": true
   },
   "outputs": [],
   "source": [
    "L = 20\n",
    "p = 0.6\n",
    "\n",
    "# Look how easy it is to do all that analysis in one line with the class method!\n",
    "plt.imshow(PercolationAnalysis(L,p).clusterIDs,cmap='OrRd',interpolation=\"none\")\n",
    "plt.title('Cluster ID')\n",
    "plt.colorbar()\n",
    "plt.show()\n",
    "\n",
    "print('Cluster IDs, for visual verification')"
   ]
  },
  {
   "cell_type": "markdown",
   "metadata": {},
   "source": [
    "** Calculating the percolation threshhold **\n",
    "\n",
    "The percolation threshhold is the critical site occupation probability above which there will be a percolating cluster. Let's calculate that, now that we have our clustering algorithms set up."
   ]
  },
  {
   "cell_type": "code",
   "execution_count": null,
   "metadata": {},
   "outputs": [],
   "source": [
    "L = 25\n",
    "reps = 5\n",
    "site_occupied_prob = np.linspace(0.0, 1.0, 20)\n",
    "\n",
    "percolation_prob = [] \n",
    "# start = time.time()\n",
    "for p in site_occupied_prob:\n",
    "    tmp_data = []\n",
    "    for rep in range(reps):\n",
    "        tmp_data.append(PercolationAnalysis(L,p).percolated_yes_or_no())\n",
    "    percolation_prob.append(np.sum(np.asarray(tmp_data))/reps)\n",
    "# elapsed = time.time()-start\n",
    "# print(elapsed)\n",
    "\n",
    "plt.plot(site_occupied_prob,percolation_prob,'bo-')\n",
    "plt.title('Probability (P) of percolating cluster existence')\n",
    "plt.ylabel('P')\n",
    "plt.xlabel('Probability (p) of a lattice site being occupied')\n",
    "plt.show()"
   ]
  },
  {
   "cell_type": "markdown",
   "metadata": {},
   "source": [
    "All right-- there's lots to dig into in the above.\n",
    "* reps: We need statistics! We should run multiple randomized percolation configurations\n",
    "* L: p=0.58 in the infinite limit; at lower L, we won't get as smooth of a result\n",
    "* timing: Let's play with addings reps and L. How long does this take? How could we make it faster?\n",
    "* Bonus: how would we get the actual percolation threshhold without eyeballing?\n",
    "\n",
    "(And in case we were doing this \"for real\", I'd probably add this in as a class method for my analysis, below.)"
   ]
  },
  {
   "cell_type": "code",
   "execution_count": null,
   "metadata": {},
   "outputs": [],
   "source": [
    "L = 25\n",
    "reps = 3\n",
    "site_occupied_prob = np.linspace(0.0, 1.0, 20)\n",
    "\n",
    "PercolationAnalysis(L,0).visualize_percolation_threshhold(reps, site_occupied_prob)"
   ]
  },
  {
   "cell_type": "markdown",
   "metadata": {},
   "source": [
    "Before we move on: if you'd like more code to read that's similar to this, [this](https://github.com/shannon-moran/computational-physics-F17/blob/master/02_HW/Moran_HW6.ipynb) example might be of interest. Generally, I highly recommend Phys 514 with Emmanuel Gull for those of you with computational science research interests. It gives you broad + useful practive with a variety of topics in computation physics, which is the basis for much of the work we do."
   ]
  },
  {
   "cell_type": "markdown",
   "metadata": {},
   "source": [
    "## Speed-ups: What is parallel processing? How can we implement it in python? - 20 min\n",
    "\n",
    "In theory, we're all familiar with the idea of parallal processing: things take less time when we do them at the same time (in parallel) rather than waiting for the next one in line to finish (in serial).\n",
    "![simple](https://www.oreilly.com/library/view/oracle-parallel-processing/156592701X/tagoreillycom20070221oreillyimages81824.png)\n",
    "\n",
    "In practice, the speed-up is rarely this simple (as we're going to see below). However, parallelization is a powerful tool for getting some speed-up on modern computers.\n",
    "\n",
    "**Python's multiprocessing package**\n",
    "\n",
    "Python's multiprocessing package offers us an easy way to parallelize code. Today, we're going to do a really simple demo to show how it works.\n",
    "\n",
    "If you're interested in this package more generally, [this](https://sebastianraschka.com/Articles/2014_multiprocessing.html) is the best tutorial I've yet come across and I recommend going throughit."
   ]
  },
  {
   "cell_type": "code",
   "execution_count": null,
   "metadata": {},
   "outputs": [],
   "source": [
    "import multiprocessing as mp"
   ]
  },
  {
   "cell_type": "code",
   "execution_count": null,
   "metadata": {},
   "outputs": [],
   "source": [
    "cores = mp.cpu_count()\n",
    "print(cores)"
   ]
  },
  {
   "cell_type": "markdown",
   "metadata": {},
   "source": [
    "## Running functions in parallel, then gathering results"
   ]
  },
  {
   "cell_type": "code",
   "execution_count": null,
   "metadata": {},
   "outputs": [],
   "source": [
    "def run_analysis(L,p):\n",
    "    return PercolationAnalysis(L,p).percolated_yes_or_no()\n",
    "\n",
    "def run_replicate_set(L,p_range):\n",
    "    return [PercolationAnalysis(L,p).percolated_yes_or_no() for p in p_range]"
   ]
  },
  {
   "cell_type": "code",
   "execution_count": null,
   "metadata": {},
   "outputs": [],
   "source": [
    "pool = mp.Pool(processes=cores)\n",
    "results = [pool.apply_async(run_analysis, args=(L,p)) for p in np.linspace(0.0, 1.0, 20)]\n",
    "output = [p.get() for p in results]\n",
    "\n",
    "print(output)"
   ]
  },
  {
   "cell_type": "markdown",
   "metadata": {},
   "source": [
    "Let's do the same thing we did above, but now in parallel."
   ]
  },
  {
   "cell_type": "code",
   "execution_count": null,
   "metadata": {},
   "outputs": [],
   "source": [
    "L = 25\n",
    "reps = 5\n",
    "site_occupied_prob = np.linspace(0.0,1.0,20)\n",
    "\n",
    "start = time.time()\n",
    "\n",
    "pool = mp.Pool(processes=cores)\n",
    "results = [pool.apply_async(run_replicate_set, args=(L,site_occupied_prob)) for r in range(reps)]\n",
    "output = [p.get() for p in results]\n",
    "percolation_prob = np.asarray(output).reshape((len(output),site_occupied_prob.shape[0])).mean(axis=0)\n",
    "\n",
    "elapsed = time.time()-start\n",
    "print(elapsed)\n",
    "\n",
    "plt.plot(site_occupied_prob,percolation_prob,'bo-')\n",
    "plt.title('Probability (P) of percolating cluster existence')\n",
    "plt.ylabel('P')\n",
    "plt.xlabel('Probability (p) of a lattice site being occupied')\n",
    "plt.show()"
   ]
  },
  {
   "cell_type": "markdown",
   "metadata": {},
   "source": [
    "Let's play around with a few things.\n",
    "* What's the speed-up that we see?\n",
    "* What happens if we increase the number of processes? Decrease?\n",
    "* Number of reps? Size of lattice?"
   ]
  },
  {
   "cell_type": "markdown",
   "metadata": {},
   "source": [
    "## Running functions in parallel (each function doing their own thing)"
   ]
  },
  {
   "cell_type": "code",
   "execution_count": null,
   "metadata": {},
   "outputs": [],
   "source": [
    "def run_visualization(L,p):\n",
    "    plt.imshow(PercolationAnalysis(L,p).clusterIDs,cmap='OrRd',interpolation=\"none\")\n",
    "    plt.title('Cluster ID')\n",
    "    plt.colorbar()\n",
    "    plt.show()\n",
    "    return"
   ]
  },
  {
   "cell_type": "markdown",
   "metadata": {},
   "source": [
    "I will leave this as a homework assignment-- look into the .join(), .start() methods."
   ]
  }
 ],
 "metadata": {
  "kernelspec": {
   "display_name": "Python 3",
   "language": "python",
   "name": "python3"
  },
  "language_info": {
   "codemirror_mode": {
    "name": "ipython",
    "version": 3
   },
   "file_extension": ".py",
   "mimetype": "text/x-python",
   "name": "python",
   "nbconvert_exporter": "python",
   "pygments_lexer": "ipython3",
   "version": "3.6.7"
  }
 },
 "nbformat": 4,
 "nbformat_minor": 2
}
